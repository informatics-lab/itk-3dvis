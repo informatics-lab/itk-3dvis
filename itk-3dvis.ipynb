{
 "cells": [
  {
   "cell_type": "markdown",
   "metadata": {},
   "source": [
    "# Visualising Met Office forecast data in 3D using `itk-jupyter-widgets`\n",
    "\n",
    "This notebook demonstrates how to visualise forcast data in 3D using the following library:\n",
    "\n",
    "https://github.com/InsightSoftwareConsortium/itk-jupyter-widgets"
   ]
  },
  {
   "cell_type": "markdown",
   "metadata": {},
   "source": [
    "## Setup\n",
    "\n",
    "Please create a conda environment with the accompanied `requirements.txt`, if you haven't done so already:\n",
    "\n",
    "```$ conda create --name itk-3dvis --file environment.yml --yes```\n",
    "\n",
    "If you are using Jupyter Lab then you also need to install the an extension:\n",
    "\n",
    "```$ jupyter labextension install @jupyter-widgets/jupyterlab-manager itk-jupyter-widgets```"
   ]
  },
  {
   "cell_type": "code",
   "execution_count": null,
   "metadata": {},
   "outputs": [],
   "source": [
    "# imports for 3d visualisation with itkwidgets\n",
    "import itk\n",
    "import itkwidgets as itkw"
   ]
  },
  {
   "cell_type": "markdown",
   "metadata": {},
   "source": [
    "## Demo data to show that `itkwidgets` are working\n",
    "\n",
    "This demo should download a file of a brain scan for you to visualise. If everything has been installed correctly, you can play with a brain!"
   ]
  },
  {
   "cell_type": "code",
   "execution_count": null,
   "metadata": {},
   "outputs": [],
   "source": [
    "# imports for demo\n",
    "try:\n",
    "    from urllib.request import urlretrieve\n",
    "except ImportError:\n",
    "    from urllib import urlretrieve\n",
    "import os"
   ]
  },
  {
   "cell_type": "code",
   "execution_count": null,
   "metadata": {},
   "outputs": [],
   "source": [
    "# download data\n",
    "file_name = '005_32months_T2_RegT1_Reg2Atlas_ManualBrainMask_Stripped.nrrd'\n",
    "if not os.path.exists(file_name):\n",
    "    url = 'https://data.kitware.com/api/v1/file/564a5b078d777f7522dbfaa6/download'\n",
    "    urlretrieve(url, file_name)"
   ]
  },
  {
   "cell_type": "code",
   "execution_count": null,
   "metadata": {},
   "outputs": [],
   "source": [
    "image = itk.imread(file_name)\n",
    "itkw.view(image)"
   ]
  },
  {
   "cell_type": "markdown",
   "metadata": {},
   "source": [
    "## Met Office data\n",
    "\n",
    "Now to 3D visualise Met Office forecast data. For this we are going to load the accompanied NetCDF file for cloud volume fraction from the [UKV regional model](https://www.metoffice.gov.uk/research/modelling-systems/unified-model/weather-forecasting)."
   ]
  },
  {
   "cell_type": "code",
   "execution_count": null,
   "metadata": {},
   "outputs": [],
   "source": [
    "# imports to download and load file\n",
    "import boto3\n",
    "import iris\n",
    "import os"
   ]
  },
  {
   "cell_type": "code",
   "execution_count": null,
   "metadata": {},
   "outputs": [],
   "source": [
    "# download the file if not already available\n",
    "file_name = 'cloud_volume_ukv.nc'\n",
    "if not os.path.exists(file_name):\n",
    "    s3 = boto3.client('s3')\n",
    "    s3.download_file('informatics-forecaster-data',f'hero-demo/{file_name}',file_name)"
   ]
  },
  {
   "cell_type": "code",
   "execution_count": null,
   "metadata": {},
   "outputs": [],
   "source": [
    "# load a cube of the data\n",
    "cube = iris.load_cube(file_name)\n",
    "cube"
   ]
  },
  {
   "cell_type": "code",
   "execution_count": null,
   "metadata": {},
   "outputs": [],
   "source": [
    "# view a subset of the data in 3D\n",
    "itkw.view(cube.data[:,:100,:100], cmap='X Ray', shadow=False)"
   ]
  },
  {
   "cell_type": "code",
   "execution_count": null,
   "metadata": {},
   "outputs": [],
   "source": [
    "# view the whole data field from above, with a slider to move through vertical slices\n",
    "itkw.view(cube.data, cmap='Viridis (matplotlib)', mode='z', shadow=False)"
   ]
  },
  {
   "cell_type": "code",
   "execution_count": null,
   "metadata": {},
   "outputs": [],
   "source": [
    "# compare this to plotting the data with matplotlib\n",
    "%matplotlib inline\n",
    "import matplotlib.pyplot as plt\n",
    "import iris.quickplot as qplt\n",
    "\n",
    "qplt.pcolormesh(cube[16])\n",
    "plt.gca().coastlines('50m', color='grey')\n",
    "plt.gcf().set_size_inches(8, 12)"
   ]
  }
 ],
 "metadata": {
  "kernelspec": {
   "display_name": "Python 3",
   "language": "python",
   "name": "python3"
  },
  "language_info": {
   "codemirror_mode": {
    "name": "ipython",
    "version": 3
   },
   "file_extension": ".py",
   "mimetype": "text/x-python",
   "name": "python",
   "nbconvert_exporter": "python",
   "pygments_lexer": "ipython3",
   "version": "3.7.3"
  }
 },
 "nbformat": 4,
 "nbformat_minor": 2
}
